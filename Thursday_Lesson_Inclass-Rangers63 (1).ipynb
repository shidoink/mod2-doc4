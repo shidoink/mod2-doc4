{
 "cells": [
  {
   "cell_type": "markdown",
   "metadata": {},
   "source": [
    "# Object-Oriented-Programming (OOP)"
   ]
  },
  {
   "cell_type": "markdown",
   "metadata": {},
   "source": [
    "## Tasks Today:\n",
    "\n",
    "   \n",
    "\n",
    "1) <b>Creating a Class (Initializing/Declaring)</b> <br>\n",
    "2) <b>Using a Class (Instantiating)</b> <br>\n",
    " &nbsp;&nbsp;&nbsp;&nbsp; a) Creating One Instance <br>\n",
    " &nbsp;&nbsp;&nbsp;&nbsp; b) Creating Multiple Instances <br>\n",
    " &nbsp;&nbsp;&nbsp;&nbsp; c) In-Class Exercise #1 - Create a Class 'Car' and instantiate three different makes of cars <br>\n",
    "3) <b>The \\__init\\__() Method</b> <br>\n",
    " &nbsp;&nbsp;&nbsp;&nbsp; a) The 'self' Attribute <br>\n",
    "4) <b>Class Attributes</b> <br>\n",
    " &nbsp;&nbsp;&nbsp;&nbsp; a) Initializing Attributes <br>\n",
    " &nbsp;&nbsp;&nbsp;&nbsp; b) Setting an Attribute Outside of the \\__init\\__() Method <br>\n",
    " &nbsp;&nbsp;&nbsp;&nbsp; c) Setting Defaults for Attributes <br>\n",
    " &nbsp;&nbsp;&nbsp;&nbsp; d) Accessing Class Attributes <br>\n",
    " &nbsp;&nbsp;&nbsp;&nbsp; e) Changing Class Attributes <br>\n",
    " &nbsp;&nbsp;&nbsp;&nbsp; f) In-Class Exercise #2 - Add a color and wheels attribute to your 'Car' class <br>\n",
    "5) <b>Class Methods</b> <br>\n",
    " &nbsp;&nbsp;&nbsp;&nbsp; a) Creating <br>\n",
    " &nbsp;&nbsp;&nbsp;&nbsp; b) Calling <br>\n",
    " &nbsp;&nbsp;&nbsp;&nbsp; c) Modifying an Attribute's Value Through a Method <br>\n",
    " &nbsp;&nbsp;&nbsp;&nbsp; d) Incrementing an Attribute's Value Through a Method <br>\n",
    " &nbsp;&nbsp;&nbsp;&nbsp; e) In-Class Exercise #3 - Add a method that prints the cars color and wheel number, then call them <br>\n",
    "6) <b>Inheritance</b> <br>\n",
    " &nbsp;&nbsp;&nbsp;&nbsp; a) Syntax for Inheriting from a Parent Class <br>\n",
    " &nbsp;&nbsp;&nbsp;&nbsp; b) The \\__init\\__() Method for a Child Class (super()) <br>\n",
    " &nbsp;&nbsp;&nbsp;&nbsp; c) Defining Attributes and Methods for the Child Class <br>\n",
    " &nbsp;&nbsp;&nbsp;&nbsp; d) Method Overriding <br>\n",
    " &nbsp;&nbsp;&nbsp;&nbsp; e) In-Class Exercise #4 - Create a class 'Ford' that inherits from 'Car' class and initialize it as a Blue Ford Explorer with 4 wheels using the super() method <br>\n",
    "7) <b>Classes as Attributes</b> <br>\n",
    "8) <b>Exercises</b> <br>\n",
    " &nbsp;&nbsp;&nbsp;&nbsp; a) Exercise #1 - Turn the shopping cart program from yesterday into an object-oriented program <br>"
   ]
  },
  {
   "cell_type": "markdown",
   "metadata": {},
   "source": [
    "## Creating a Class (Initializing/Declaring)\n",
    "<p>When creating a class, function, or even a variable you are initializing that object. Initializing and Declaring occur at the same time in Python, whereas in lower level languages you have to declare an object before initializing it. This is the first step in the process of using a class.</p>"
   ]
  },
  {
   "cell_type": "code",
   "execution_count": 2,
   "metadata": {},
   "outputs": [],
   "source": [
    "class Car():\n",
    "    wheels = 4\n",
    "    color = 'blue'"
   ]
  },
  {
   "cell_type": "markdown",
   "metadata": {},
   "source": [
    "## Using a Class (Instantiating)\n",
    "<p>The process of creating a class is called <i>Instantiating</i>. Each time you create a variable of that type of class, it is referred to as an <i>Instance</i> of that class. This is the second step in the process of using a class.</p>"
   ]
  },
  {
   "cell_type": "markdown",
   "metadata": {},
   "source": [
    "##### Creating One Instance"
   ]
  },
  {
   "cell_type": "code",
   "execution_count": 3,
   "metadata": {},
   "outputs": [
    {
     "name": "stdout",
     "output_type": "stream",
     "text": [
      "blue\n"
     ]
    }
   ],
   "source": [
    "ford = Car()\n",
    "print(ford.color)"
   ]
  },
  {
   "cell_type": "markdown",
   "metadata": {},
   "source": [
    "##### Creating Multiple Instances"
   ]
  },
  {
   "cell_type": "code",
   "execution_count": 5,
   "metadata": {},
   "outputs": [
    {
     "name": "stdout",
     "output_type": "stream",
     "text": [
      "<class 'str'>\n"
     ]
    },
    {
     "ename": "AttributeError",
     "evalue": "'Car' object has no attribute 'bumper'",
     "output_type": "error",
     "traceback": [
      "\u001b[1;31m---------------------------------------------------------------------------\u001b[0m",
      "\u001b[1;31mAttributeError\u001b[0m                            Traceback (most recent call last)",
      "\u001b[1;32m~\\AppData\\Local\\Temp\\ipykernel_112292\\6004897.py\u001b[0m in \u001b[0;36m<module>\u001b[1;34m\u001b[0m\n\u001b[0;32m      4\u001b[0m \u001b[1;33m\u001b[0m\u001b[0m\n\u001b[0;32m      5\u001b[0m \u001b[0mprint\u001b[0m\u001b[1;33m(\u001b[0m\u001b[0mtype\u001b[0m\u001b[1;33m(\u001b[0m\u001b[0mporche\u001b[0m\u001b[1;33m.\u001b[0m\u001b[0mcolor\u001b[0m\u001b[1;33m)\u001b[0m\u001b[1;33m)\u001b[0m\u001b[1;33m\u001b[0m\u001b[1;33m\u001b[0m\u001b[0m\n\u001b[1;32m----> 6\u001b[1;33m \u001b[0mprint\u001b[0m\u001b[1;33m(\u001b[0m\u001b[0mporche\u001b[0m\u001b[1;33m.\u001b[0m\u001b[0mbumper\u001b[0m\u001b[1;33m)\u001b[0m\u001b[1;33m\u001b[0m\u001b[1;33m\u001b[0m\u001b[0m\n\u001b[0m",
      "\u001b[1;31mAttributeError\u001b[0m: 'Car' object has no attribute 'bumper'"
     ]
    }
   ],
   "source": [
    "chevrolet=Car()\n",
    "honda=Car()\n",
    "porche=Car()\n",
    "\n",
    "print(type(porche.color))\n",
    "print(porche.bumper)"
   ]
  },
  {
   "cell_type": "markdown",
   "metadata": {},
   "source": [
    "##### In-Class Exercise #1 - Create a Class 'Car' and Instantiate three different makes of cars"
   ]
  },
  {
   "cell_type": "code",
   "execution_count": 7,
   "metadata": {},
   "outputs": [
    {
     "name": "stdout",
     "output_type": "stream",
     "text": [
      "4\n",
      "red\n",
      "4\n"
     ]
    }
   ],
   "source": [
    "class Car():\n",
    "    doors=4\n",
    "    color='red'\n",
    "    wheels=4\n",
    "\n",
    "honda= Car()\n",
    "toyota= Car()\n",
    "subaru= Car()\n",
    "\n",
    "print(honda.doors)\n",
    "print(toyota.color)\n",
    "print(subaru.wheels)"
   ]
  },
  {
   "cell_type": "markdown",
   "metadata": {},
   "source": [
    "## The \\__init\\__() Method <br>\n",
    "<p>This method is used in almost every created class, and called only once upon the creation of the class instance. This method will initialize all variables needed for the object.</p>"
   ]
  },
  {
   "cell_type": "code",
   "execution_count": 2,
   "metadata": {},
   "outputs": [
    {
     "name": "stdout",
     "output_type": "stream",
     "text": [
      "black\n",
      "blue\n"
     ]
    }
   ],
   "source": [
    "class Car():\n",
    "    engine= \"4.7L\"\n",
    "    def __init__(self,color, wheels):\n",
    "        self.color= color\n",
    "        self.wheels = wheels\n",
    "\n",
    "mazda= Car('black',4)\n",
    "subaru= Car('blue',6)\n",
    "    \n",
    "print(mazda.color)\n",
    "print(subaru.color)"
   ]
  },
  {
   "cell_type": "markdown",
   "metadata": {},
   "source": [
    "##### The 'self' Attribute <br>\n",
    "<p>This attribute is required to keep track of specific instance's attributes. Without the self attribute, the program would not know how to reference or keep track of an instance's attributes.</p>"
   ]
  },
  {
   "cell_type": "code",
   "execution_count": null,
   "metadata": {},
   "outputs": [],
   "source": [
    "# see above"
   ]
  },
  {
   "cell_type": "markdown",
   "metadata": {},
   "source": [
    "## Class Attributes <br>\n",
    "<p>While variables are inside of a class, they are referred to as attributes and not variables. When someone says 'attribute' you know they're speaking about a class. Attributes can be initialized through the init method, or outside of it.</p>"
   ]
  },
  {
   "cell_type": "markdown",
   "metadata": {},
   "source": [
    "##### Initializing Attributes"
   ]
  },
  {
   "cell_type": "code",
   "execution_count": 3,
   "metadata": {},
   "outputs": [],
   "source": [
    "class Toy():\n",
    "    kind= 'car' #This is called a constant\n",
    "    \n",
    "    def __init__(self, rooftop, horn, wheels):\n",
    "        self.rooftop = rooftop\n",
    "        self.horn = horn\n",
    "        self.wheels = wheels\n",
    "\n",
    "tonka_truck = Toy( 1, 1, 4)\n",
    "hotwheels_car= Toy( 2, 3, 8)\n",
    "        "
   ]
  },
  {
   "cell_type": "markdown",
   "metadata": {},
   "source": [
    "##### Accessing Class Attributes"
   ]
  },
  {
   "cell_type": "code",
   "execution_count": 5,
   "metadata": {
    "scrolled": true
   },
   "outputs": [
    {
     "data": {
      "text/plain": [
       "8"
      ]
     },
     "execution_count": 5,
     "metadata": {},
     "output_type": "execute_result"
    }
   ],
   "source": [
    "tonka_truck.rooftop\n",
    "hotwheels_car.wheels"
   ]
  },
  {
   "cell_type": "markdown",
   "metadata": {},
   "source": [
    "##### Setting Defaults for Attributes"
   ]
  },
  {
   "cell_type": "code",
   "execution_count": 6,
   "metadata": {},
   "outputs": [
    {
     "data": {
      "text/plain": [
       "'Blue'"
      ]
     },
     "execution_count": 6,
     "metadata": {},
     "output_type": "execute_result"
    }
   ],
   "source": [
    "class Car():\n",
    "    engine= \"4.7L\"\n",
    "    \n",
    "    def __init__(self, wheels):\n",
    "        self.wheels= wheels\n",
    "        self.color = \"Blue\"\n",
    "\n",
    "honda=Car(4)\n",
    "honda.color"
   ]
  },
  {
   "cell_type": "markdown",
   "metadata": {},
   "source": [
    "##### Changing Class Attributes <br>\n",
    "<p>Keep in mind there are global class attributes and then there are attributes only available to each class instance which won't effect other classes.</p>"
   ]
  },
  {
   "cell_type": "code",
   "execution_count": 8,
   "metadata": {},
   "outputs": [
    {
     "name": "stdout",
     "output_type": "stream",
     "text": [
      "Before change: Blue\n",
      "\n",
      "After Change: white\n"
     ]
    }
   ],
   "source": [
    "jeep = Car(8)\n",
    "\n",
    "print(f'Before change: {jeep.color}')\n",
    "\n",
    "jeep.color = 'white'\n",
    "\n",
    "print(f'\\nAfter Change: {jeep.color}')"
   ]
  },
  {
   "cell_type": "code",
   "execution_count": null,
   "metadata": {},
   "outputs": [],
   "source": []
  },
  {
   "cell_type": "markdown",
   "metadata": {},
   "source": [
    "##### In-Class Exercise #2 - Add a doors and seats attribute to your 'Car' class then print out two different instances with different doors and seats"
   ]
  },
  {
   "cell_type": "code",
   "execution_count": 3,
   "metadata": {},
   "outputs": [
    {
     "name": "stdout",
     "output_type": "stream",
     "text": [
      "Toyota seats: 2 and toyota doors: 2\n",
      "porche seats: 4 and porche seats: 4\n"
     ]
    }
   ],
   "source": [
    "class Car():\n",
    "    def __init__(self,doors,seats = 4):\n",
    "        self.doors = doors\n",
    "        self.seats = seats\n",
    "toyota = Car(2,2)\n",
    "porche = Car(4)\n",
    "\n",
    "print(f'Toyota seats: {toyota.seats} and toyota doors: {toyota.doors}')\n",
    "print(f\"porche seats: {porche.seats} and porche seats: {porche.seats}\")\n"
   ]
  },
  {
   "cell_type": "markdown",
   "metadata": {},
   "source": [
    "## Class Methods <br>\n",
    "<p>While inside of a class, functions are referred to as 'methods'. If you hear someone mention methods, they're speaking about classes. Methods are essentially functions, but only callable on the instances of a class.</p>"
   ]
  },
  {
   "cell_type": "markdown",
   "metadata": {},
   "source": [
    "##### Creating"
   ]
  },
  {
   "cell_type": "code",
   "execution_count": 4,
   "metadata": {},
   "outputs": [],
   "source": [
    "class ShoppingBag():\n",
    "    \"\"\"\n",
    "    The Shopping Bag Class will have handles, capacity, and items to place inside\n",
    "    \n",
    "    Attributes for the class:\n",
    "    -handles: expected as an integer\n",
    "    -capacity: string or integer\n",
    "    -items: expected to be a list \n",
    "    \"\"\"\n",
    "    def __init__(self,handles,capacity,items):\n",
    "        self.handles=handles\n",
    "        self.capacity=capacity\n",
    "        self.items=items\n",
    "        \n",
    "    #Write a method that shows the items in our ShoppingBag/ this is our items list\n",
    "    def showShoppingBag(self):\n",
    "        print(\"You have items in your bag!\")\n",
    "        for item in self.items:\n",
    "            print(item)\n",
    "            \n",
    "    #Show the capacity of ShoppingBag - how much room is left\n",
    "    def showCapacity(self):\n",
    "        print(f'Your cacpacity is {self.capacity}')\n",
    "    \n",
    "    #Add item(s) to the items list for the ShoppingBag\n",
    "    def addToShoppingBag(self):\n",
    "        products= input(\"What would you like to add?\")\n",
    "        self.items.append(products)\n",
    "    \n",
    "    #Change the capacity of the shopping bag\n",
    "    def changeBagCapacity(self,capacity):\n",
    "        self.capacity= capacity\n",
    "    \n",
    "    # Increase the capacity of the ShoppingBag by a default amount set to 10\n",
    "    \n",
    "    def increaseCapacity(self,changed_capacity = 10):\n",
    "        if self.capacity == isinstance(self.capacity,str):\n",
    "            print(\"We cant add that here\")\n",
    "        else:\n",
    "            self.capacity+=changed_capacity\n"
   ]
  },
  {
   "cell_type": "markdown",
   "metadata": {},
   "source": [
    "\n",
    "##### Calling"
   ]
  },
  {
   "cell_type": "code",
   "execution_count": 7,
   "metadata": {},
   "outputs": [
    {
     "name": "stdout",
     "output_type": "stream",
     "text": [
      "What do you want to do? add/show/quitadd\n",
      "What would you like to add?banana\n",
      "What do you want to do? add/show/quitquit\n",
      "You have items in your bag!\n",
      "banana\n",
      "Thanks for shopping!\n"
     ]
    }
   ],
   "source": [
    "# See Above\n",
    "wholeFoods_bag = ShoppingBag(2,10,[])\n",
    "\n",
    "def run():\n",
    "    while True:\n",
    "        response = input(\"What do you want to do? add/show/quit\")\n",
    "        \n",
    "        if response.lower()== 'quit':\n",
    "            wholeFoods_bag.showShoppingBag()\n",
    "            print(\"Thanks for shopping!\")\n",
    "            break\n",
    "            \n",
    "        elif response.lower() == 'add':\n",
    "            wholeFoods_bag.addToShoppingBag()\n",
    "        \n",
    "        elif response.lower() == 'show':\n",
    "            wholeFoods_bag.showShoppingBag()\n",
    "        else:\n",
    "            print(\"Try another command\")\n",
    "run()"
   ]
  },
  {
   "cell_type": "markdown",
   "metadata": {},
   "source": [
    "##### Modifying an Attribute's Value Through a Method"
   ]
  },
  {
   "cell_type": "code",
   "execution_count": 10,
   "metadata": {},
   "outputs": [
    {
     "name": "stdout",
     "output_type": "stream",
     "text": [
      "Your cacpacity is 40\n",
      "Capacity After the change\n",
      "Your cacpacity is 80\n"
     ]
    }
   ],
   "source": [
    "# Show the capacity\n",
    "wholeFoods_bag.showCapacity()\n",
    "print('Capacity After the change')\n",
    "wholeFoods_bag.changeBagCapacity(80)\n",
    "wholeFoods_bag.showCapacity()"
   ]
  },
  {
   "cell_type": "markdown",
   "metadata": {},
   "source": [
    "##### Incrementing an Attribute's Value Through a Method"
   ]
  },
  {
   "cell_type": "code",
   "execution_count": 14,
   "metadata": {},
   "outputs": [
    {
     "name": "stdout",
     "output_type": "stream",
     "text": [
      "Your cacpacity is 70\n",
      "After increase:\n",
      "Your cacpacity is 80\n"
     ]
    }
   ],
   "source": [
    "wholeFoods_bag.showCapacity()\n",
    "print('After increase:')\n",
    "wholeFoods_bag.increaseCapacity()\n",
    "wholeFoods_bag.showCapacity()"
   ]
  },
  {
   "cell_type": "markdown",
   "metadata": {},
   "source": [
    "##### In-Class Exercise #3 - Add a method that takes in three parameters of year, doors and seats and prints out a formatted print statement with make, model, year, seats, and doors"
   ]
  },
  {
   "cell_type": "code",
   "execution_count": 21,
   "metadata": {},
   "outputs": [
    {
     "name": "stdout",
     "output_type": "stream",
     "text": [
      "This car is from 2019 and is a Ford Explorer and has 4 doors and 5 seats\n"
     ]
    }
   ],
   "source": [
    "# Create class with 2 paramters inside of the __init__ which are make and model\n",
    "class Car:\n",
    "    def __init__(self,make,model):\n",
    "        self.make= make\n",
    "        self.model = model\n",
    "# Inside of the Car class create a method that has 4 parameter in total (self,year,door,seats)\n",
    "    def print_info(self,year,door,seats):\n",
    "        print(f'This car is from {year} and is a {self.make} {self.model} and has {door} doors and {seats} seats')\n",
    "# Output: This car is from 2019 and is a Ford Expolorer and has 4 doors and 5 seats\n",
    "ford_explorer= Car(\"Ford\", \"Explorer\")\n",
    "\n",
    "ford_explorer.print_info(2019, 4, 5)\n",
    "\n",
    "              \n"
   ]
  },
  {
   "cell_type": "markdown",
   "metadata": {},
   "source": [
    "## Inheritance <br>\n",
    "<p>You can create a child-parent relationship between two classes by using inheritance. What this allows you to do is have overriding methods, but also inherit traits from the parent class. Think of it as an actual parent and child, the child will inherit the parent's genes, as will the classes in OOP</p>"
   ]
  },
  {
   "cell_type": "markdown",
   "metadata": {},
   "source": [
    "##### Syntax for Inheriting from a Parent Class"
   ]
  },
  {
   "cell_type": "code",
   "execution_count": 32,
   "metadata": {},
   "outputs": [
    {
     "name": "stdout",
     "output_type": "stream",
     "text": [
      "Bark\n",
      "9.8\n",
      "15\n"
     ]
    }
   ],
   "source": [
    "#Create a parent class\n",
    "class Animal():\n",
    "    acceleration =9.8\n",
    "    \n",
    "    def __init__( self, name, species, legs=4):\n",
    "        self.name=name\n",
    "        self.species=species\n",
    "        self.legs=legs\n",
    "    \n",
    "    #Generic parent method- not overriding anything\n",
    "    def makeSound(self):\n",
    "        print(\"Make some generic sound\")\n",
    "\n",
    "#Child class of dog\n",
    "\n",
    "class Dog(Animal):\n",
    "    speed= 15\n",
    "    \n",
    "    def printInfo(self):\n",
    "        print(f'the Dog has {self.speed} mph in speed and {self.acceleration}')\n",
    "\n",
    "# Grandchild class\n",
    "class Mutt(Dog):\n",
    "    color = \"tan\"\n",
    "    #Override the animal class using the dog class to overwrite the __init__ from animal\n",
    "    def __init__(self,name,species,eye_color,legs=4):\n",
    "        Dog.__init__(self,name,species,legs)\n",
    "        self.eye_color= eye_color\n",
    "        \n",
    "        #override the makesound method which is coming from animal\n",
    "    def makeSound(self):\n",
    "        noise= \"Bark\"\n",
    "        return noise\n",
    "\n",
    "lassie= Dog(\"Lassie\", \"Dog\",)\n",
    "basic_animal= Animal(\"Generic Animal Name\", \"Generic Animal Species\")\n",
    "buster= Mutt(\"Buster\", \"Mutt\", \"Brown\")\n",
    "\n",
    "print(buster.makeSound())\n",
    "print(buster.acceleration)\n",
    "print(buster.speed)\n",
    "        "
   ]
  },
  {
   "cell_type": "markdown",
   "metadata": {},
   "source": [
    "##### The \\__init\\__() Method for a Child Class - super()"
   ]
  },
  {
   "cell_type": "code",
   "execution_count": null,
   "metadata": {
    "scrolled": true
   },
   "outputs": [],
   "source": [
    "class Puppy(Dog):\n",
    "    color= 'black and brown'\n",
    "    \n",
    "    #override the animal class init via dog class\n",
    "    def __init__( self, name, species, eye_color, legs=4):\n",
    "        super().__init__(name, species, legs)\n",
    "        self.eye_color = eye_color\n",
    "        \n",
    "        #override the makesound method\n",
    "    def makeSound(self):\n",
    "        noise = 'bark'\n",
    "        return noise\n",
    "        "
   ]
  },
  {
   "cell_type": "markdown",
   "metadata": {},
   "source": [
    "##### Defining Attributes and Methods for the Child Class"
   ]
  },
  {
   "cell_type": "code",
   "execution_count": null,
   "metadata": {},
   "outputs": [],
   "source": [
    "# See Above"
   ]
  },
  {
   "cell_type": "markdown",
   "metadata": {},
   "source": [
    "##### Method Overriding"
   ]
  },
  {
   "cell_type": "code",
   "execution_count": null,
   "metadata": {},
   "outputs": [],
   "source": [
    "# See Above"
   ]
  },
  {
   "cell_type": "markdown",
   "metadata": {},
   "source": [
    "## Classes as Attributes <br>\n",
    "<p>Classes can also be used as attributes within another class. This is useful in situations where you need to keep variables locally stored, instead of globally stored.</p>"
   ]
  },
  {
   "cell_type": "code",
   "execution_count": 33,
   "metadata": {},
   "outputs": [
    {
     "name": "stdout",
     "output_type": "stream",
     "text": [
      "20\n"
     ]
    },
    {
     "data": {
      "text/plain": [
       "'2019 Telsa Model X 20'"
      ]
     },
     "execution_count": 33,
     "metadata": {},
     "output_type": "execute_result"
    }
   ],
   "source": [
    "class Battery():\n",
    "    volts= 7.8\n",
    "    \n",
    "    def __init__(self, cells):\n",
    "        self.cells = cells\n",
    "\n",
    "class Car():\n",
    "    def __init__ (self, year, make, model, battery):\n",
    "        self.year = year\n",
    "        self.make = make\n",
    "        self.model = model\n",
    "        self.battery = battery\n",
    "        \n",
    "    def printInfo(self):\n",
    "        return f'{self.year} {self.make} {self.model} {self.battery.cells}'\n",
    "\n",
    "my_battery= Battery(20)\n",
    "\n",
    "tesla = Car(2019, \"Telsa\", \"Model X\", my_battery)\n",
    "\n",
    "print(tesla.battery.cells)\n",
    "tesla.printInfo()"
   ]
  },
  {
   "cell_type": "markdown",
   "metadata": {},
   "source": [
    "# Exercises"
   ]
  },
  {
   "cell_type": "markdown",
   "metadata": {},
   "source": [
    "### Exercise 1 - Turn the shopping cart program from yesterday into an object-oriented program\n",
    "\n",
    "The comments in the cell below are there as a guide for thinking about the problem. However, if you feel a different way is best for you and your own thought process, please do what feels best for you by all means."
   ]
  },
  {
   "cell_type": "code",
   "execution_count": 1,
   "metadata": {},
   "outputs": [
    {
     "name": "stdout",
     "output_type": "stream",
     "text": [
      "What would you like to do? 'see cart','add to cart', 'remove from cart', or 'quit'?add to cart\n",
      "What would you like to add?bananas\n",
      "How many would you like?20\n",
      "What would you like to do? 'see cart','add to cart', 'remove from cart', or 'quit'?see cart\n",
      "You have this in your cart:\n",
      "Bananas : 20\n",
      "What would you like to do? 'see cart','add to cart', 'remove from cart', or 'quit'?remove from cart\n",
      "What would you like to delete?bananas\n",
      "How many would you like, total?10\n",
      "What would you like to do? 'see cart','add to cart', 'remove from cart', or 'quit'?add to cart\n",
      "What would you like to add?peanuts\n",
      "How many would you like?30\n",
      "What would you like to do? 'see cart','add to cart', 'remove from cart', or 'quit'?see cart\n",
      "You have this in your cart:\n",
      "Bananas : 10\n",
      "Peanuts : 30\n",
      "What would you like to do? 'see cart','add to cart', 'remove from cart', or 'quit'?quit\n",
      "Thank you for shopping with us, you have ordered:\n",
      "Bananas : 10\n",
      "Peanuts : 30\n"
     ]
    }
   ],
   "source": [
    "# Create a class called cart that retains items and has methods to add, remove, and show\n",
    "\n",
    "class Cart():\n",
    "    def __init__ (self, contents=[]):\n",
    "        self.contents= contents\n",
    "    \n",
    "    def thanksForShopping(self):\n",
    "            '''Thanks user for shopping and prints order'''\n",
    "            print('Thank you for shopping with us, you have ordered:')\n",
    "            compiled_cart={}\n",
    "            for content in self.contents:\n",
    "                if content in compiled_cart.keys():\n",
    "                    continue\n",
    "                else:\n",
    "                    item_count= self.contents.count(content)\n",
    "                    compiled_cart[content]=item_count\n",
    "            for key,value in compiled_cart.items():\n",
    "                print(f\"{key.title()} : {value}\")\n",
    "\n",
    "    def showContents(self):\n",
    "        '''shows user contents of cart'''\n",
    "        print('You have this in your cart:')\n",
    "        compiled_cart={}\n",
    "        for content in self.contents:\n",
    "            if content in compiled_cart.keys():\n",
    "                    continue\n",
    "            else:\n",
    "                item_count= self.contents.count(content)\n",
    "                compiled_cart[content]=item_count\n",
    "        for key,value in compiled_cart.items():\n",
    "            print(f\"{key.title()} : {value}\")\n",
    "    \n",
    "    def addToCart(self):\n",
    "        '''adds items to cart'''\n",
    "        add_item= input(\"What would you like to add?\")\n",
    "        amount= input(\"How many would you like?\")\n",
    "        while self.contents.count(add_item.lower())<int(amount):\n",
    "            self.contents.append(add_item.lower())\n",
    "\n",
    "    def removeFromCart(self):\n",
    "        '''removes items from cart'''\n",
    "        del_item= input(\"What would you like to delete?\")\n",
    "        amount= input(\"How many would you like, total?\")\n",
    "        while self.contents.count(del_item.lower())>int(amount):\n",
    "            self.contents.remove(del_item.lower())\n",
    "\n",
    "        \n",
    "\n",
    "my_cart= Cart()\n",
    "\n",
    "def run_cart():\n",
    "    shopping= True\n",
    "    while shopping==True:\n",
    "        response= input(\"What would you like to do? 'see cart','add to cart', 'remove from cart', or 'quit'?\")\n",
    "        if response== 'see cart':\n",
    "            my_cart.showContents()\n",
    "        elif response== 'add to cart':\n",
    "            my_cart.addToCart()\n",
    "        elif response== 'remove from cart':\n",
    "            my_cart.removeFromCart()\n",
    "        elif response== 'quit':\n",
    "            my_cart.thanksForShopping()\n",
    "            shopping= False\n",
    "        else:\n",
    "            print(\"Invalid input, please try again.\")\n",
    "\n",
    "run_cart()\n"
   ]
  },
  {
   "cell_type": "markdown",
   "metadata": {},
   "source": [
    "### Exercise 2 - Write a Python class which has two methods get_String and print_String. get_String accept a string from the user and print_String print the string in upper case"
   ]
  },
  {
   "cell_type": "code",
   "execution_count": 2,
   "metadata": {},
   "outputs": [
    {
     "name": "stdout",
     "output_type": "stream",
     "text": [
      "Give us a string pretty pleasesorry for yelling\n",
      "SORRY FOR YELLING\n"
     ]
    }
   ],
   "source": [
    "class stringGetter():\n",
    "    def __init__(self, string=''):\n",
    "        self.string= string\n",
    "\n",
    "    def get_String(self):\n",
    "        self.string= input(\"Give us a string pretty please\")\n",
    "\n",
    "    def print_String(self):\n",
    "        print(self.string.upper())\n",
    "\n",
    "my_string= stringGetter()\n",
    "\n",
    "my_string.get_String()\n",
    "my_string.print_String()"
   ]
  },
  {
   "cell_type": "code",
   "execution_count": null,
   "metadata": {},
   "outputs": [],
   "source": []
  }
 ],
 "metadata": {
  "kernelspec": {
   "display_name": "Python 3 (ipykernel)",
   "language": "python",
   "name": "python3"
  },
  "language_info": {
   "codemirror_mode": {
    "name": "ipython",
    "version": 3
   },
   "file_extension": ".py",
   "mimetype": "text/x-python",
   "name": "python",
   "nbconvert_exporter": "python",
   "pygments_lexer": "ipython3",
   "version": "3.9.13"
  }
 },
 "nbformat": 4,
 "nbformat_minor": 2
}
